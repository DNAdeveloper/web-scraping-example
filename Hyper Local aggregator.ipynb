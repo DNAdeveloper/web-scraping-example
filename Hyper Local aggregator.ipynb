{
 "cells": [
  {
   "cell_type": "code",
   "execution_count": 108,
   "metadata": {},
   "outputs": [],
   "source": [
    "import requests\n",
    "from bs4 import BeautifulSoup\n",
    "import pandas as pd\n",
    "import matplotlib.pyplot as plt\n",
    "import numpy as np"
   ]
  },
  {
   "cell_type": "code",
   "execution_count": 38,
   "metadata": {},
   "outputs": [],
   "source": [
    "rA=requests.get('https://www.amazon.in/adidas-Originals-Superstar-Sneakers-10-CM8077/dp/B07B4J8J57/ref=sr_1_16?s=shoes&ie=UTF8&qid=1530363919&sr=1-16&keywords=adidas+original')"
   ]
  },
  {
   "cell_type": "code",
   "execution_count": 44,
   "metadata": {},
   "outputs": [
    {
     "name": "stdout",
     "output_type": "stream",
     "text": [
      "   7,999.00\n"
     ]
    }
   ],
   "source": [
    "#Amazon Adidas Superstar White\n",
    "\n",
    "amz=rA.content\n",
    "amazon=BeautifulSoup(amz,\"lxml\")\n",
    "am_price=amazon.find(\"span\",id='priceblock_ourprice')\n",
    "k=am_price.text\n",
    "print(am_price.text)"
   ]
  },
  {
   "cell_type": "code",
   "execution_count": 50,
   "metadata": {},
   "outputs": [],
   "source": [
    "#Flipkart Adidas Superstar White\n",
    "\n",
    "rf=requests.get('https://www.flipkart.com/adidas-originals-superstar-sneakers-men/p/itmf3xxknxh8nqug?pid=SHOFFF6TPZYUPZTR&lid=LSTSHOFFF6TPZYUPZTRRW44ZK&marketplace=FLIPKART&srno=s_1_3&otracker=search&fm=SEARCH&iid=c17659bd-0e13-4f37-bb9e-30ba67475fd2.SHOFFF6TPZYUPZTR.SEARCH&ppt=Search%20Page&ppn=Search&ssid=wej4xobzcg0000001530364041798&qH=7b40c9e3904f2626')\n",
    "flp=rf.content\n",
    "flipkart=BeautifulSoup(flp,'lxml')\n",
    "fl_price=flipkart.body.find('div',attrs={'class':'_1vC4OE _3qQ9m1'})\n",
    "\n",
    "l=fl_price.text\n"
   ]
  },
  {
   "cell_type": "code",
   "execution_count": 41,
   "metadata": {},
   "outputs": [
    {
     "name": "stdout",
     "output_type": "stream",
     "text": [
      "₹7,599\n"
     ]
    }
   ],
   "source": [
    "print(fl_price.text)\n"
   ]
  },
  {
   "cell_type": "code",
   "execution_count": 42,
   "metadata": {},
   "outputs": [],
   "source": []
  },
  {
   "cell_type": "code",
   "execution_count": null,
   "metadata": {},
   "outputs": [],
   "source": [
    "\n"
   ]
  },
  {
   "cell_type": "code",
   "execution_count": 60,
   "metadata": {},
   "outputs": [],
   "source": [
    "#jobong Adidas Superstar White\n",
    "\n",
    "rj=requests.get('https://www.jabong.com/adidas-originals-Superstar-White-Sneakers-300741401.html?pos=4&cid=AD761SH24UESINDFAS')\n",
    "jb=rj.content\n",
    "jobong=BeautifulSoup(jb,'lxml')\n",
    "jb_price=jobong.find(\"span\",itemprop='price')\n",
    "q=jb_price.text\n"
   ]
  },
  {
   "cell_type": "code",
   "execution_count": 94,
   "metadata": {},
   "outputs": [
    {
     "name": "stdout",
     "output_type": "stream",
     "text": [
      "7599\n",
      "['7599', '7599', '₹7,599']\n"
     ]
    }
   ],
   "source": [
    "print(jb_price.text)\n",
    "o=[k,l,q]\n",
    "cheapest=sorted(o)\n",
    "print(cheapest)\n",
    "k=cheapest[0]\n",
    "o.append(k)\n"
   ]
  },
  {
   "cell_type": "code",
   "execution_count": 98,
   "metadata": {},
   "outputs": [],
   "source": [
    "df=pd.DataFrame(o,['Amazon','Flipkart','jobong','Cheapest'])"
   ]
  },
  {
   "cell_type": "code",
   "execution_count": 96,
   "metadata": {},
   "outputs": [
    {
     "data": {
      "text/html": [
       "<div>\n",
       "<style scoped>\n",
       "    .dataframe tbody tr th:only-of-type {\n",
       "        vertical-align: middle;\n",
       "    }\n",
       "\n",
       "    .dataframe tbody tr th {\n",
       "        vertical-align: top;\n",
       "    }\n",
       "\n",
       "    .dataframe thead th {\n",
       "        text-align: right;\n",
       "    }\n",
       "</style>\n",
       "<table border=\"1\" class=\"dataframe\">\n",
       "  <thead>\n",
       "    <tr style=\"text-align: right;\">\n",
       "      <th></th>\n",
       "      <th>0</th>\n",
       "    </tr>\n",
       "  </thead>\n",
       "  <tbody>\n",
       "    <tr>\n",
       "      <th>Amazon</th>\n",
       "      <td>7599</td>\n",
       "    </tr>\n",
       "    <tr>\n",
       "      <th>Flipkart</th>\n",
       "      <td>₹7,599</td>\n",
       "    </tr>\n",
       "    <tr>\n",
       "      <th>jobong</th>\n",
       "      <td>7599</td>\n",
       "    </tr>\n",
       "    <tr>\n",
       "      <th>Cheapest</th>\n",
       "      <td>7599</td>\n",
       "    </tr>\n",
       "  </tbody>\n",
       "</table>\n",
       "</div>"
      ],
      "text/plain": [
       "               0\n",
       "Amazon      7599\n",
       "Flipkart  ₹7,599\n",
       "jobong      7599\n",
       "Cheapest    7599"
      ]
     },
     "execution_count": 96,
     "metadata": {},
     "output_type": "execute_result"
    }
   ],
   "source": [
    "df"
   ]
  },
  {
   "cell_type": "code",
   "execution_count": null,
   "metadata": {},
   "outputs": [],
   "source": []
  },
  {
   "cell_type": "code",
   "execution_count": null,
   "metadata": {},
   "outputs": [],
   "source": []
  }
 ],
 "metadata": {
  "kernelspec": {
   "display_name": "Python 3",
   "language": "python",
   "name": "python3"
  },
  "language_info": {
   "codemirror_mode": {
    "name": "ipython",
    "version": 3
   },
   "file_extension": ".py",
   "mimetype": "text/x-python",
   "name": "python",
   "nbconvert_exporter": "python",
   "pygments_lexer": "ipython3",
   "version": "3.6.5"
  }
 },
 "nbformat": 4,
 "nbformat_minor": 2
}
